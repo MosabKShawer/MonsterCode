{
 "cells": [
  {
   "cell_type": "markdown",
   "id": "fd9230b1-4a46-4588-886a-0e7a03be909c",
   "metadata": {},
   "source": [
    "# New Notebook"
   ]
  },
  {
   "cell_type": "markdown",
   "id": "39ad44a9-8212-447c-af2f-5993741ddda7",
   "metadata": {},
   "source": [
    "## Welcome to my notebook"
   ]
  },
  {
   "cell_type": "markdown",
   "id": "f64cf462-465a-4deb-a359-a8b592fb7f95",
   "metadata": {},
   "source": [
    "## Data Science Languages\n",
    "- Python\n",
    "- R\n",
    "- SQL\n",
    "- Scala\n",
    "- Java\n",
    "- C++\n",
    "- Julia"
   ]
  },
  {
   "cell_type": "markdown",
   "id": "a987f23f-1a67-48c4-a934-1f91e568fcc5",
   "metadata": {},
   "source": [
    "## Data Science Libraries\n",
    "- Pandas\n",
    "- NumPy\n",
    "- Matplotlib\n",
    "- Seaborn\n",
    "- Scikit Learn\n",
    "- Keras\n",
    "- TensorFlow\n",
    "- PyTorch\n",
    "- Vegas\n",
    "- Big DL\n",
    "- ggplot2"
   ]
  },
  {
   "cell_type": "markdown",
   "id": "f61b445d-c662-4f88-9118-042c85cb00ec",
   "metadata": {},
   "source": [
    "## Data Science Tools\n",
    "### Data management\n",
    "- MySQL\n",
    "- MangoDB\n",
    "- Hadoop\n",
    "- IBM DB2\n",
    "- Oracle\n",
    "\n",
    "## Data integration and transformation\n",
    "- Apache AirFlow\n",
    "- Informatica\n",
    "\n",
    "## Data visualization\n",
    "- Kibana\n",
    "- Microsoft PowerBI\n",
    "\n",
    "## Model building\n",
    "- SPSS modeler\n",
    "- SAS enterprise miner\n",
    "\n",
    "## Model deployment\n",
    "- Apache Prediction\n",
    "- SPSS\n",
    "\n",
    "## Model monitoring and assessment\n",
    "- ModelDB\n",
    "- Prometheus\n",
    "\n",
    "## Model development\n",
    "- Watson Studio\n",
    "- IBM Auto AI\n",
    "\n",
    "## Code asset management\n",
    "- GitHub\n",
    "- Bitbucket\n",
    "\n",
    "## Data asset management\n",
    "- Apache Atlas\n",
    "- Kylo\n",
    "\n",
    "## Development environment\n",
    "- Jupyter\n",
    "- IBM Watson Studio\n",
    "\n",
    "## Execution environment\n",
    "- Apache Spark\n",
    "- Ray\n",
    "\n",
    "## Fully integrated visual tools\n",
    "- Orange\n",
    "- H2O"
   ]
  },
  {
   "cell_type": "markdown",
   "id": "9c00cd67-2c37-44ca-880e-d72b2c24da37",
   "metadata": {},
   "source": []
  },
  {
   "cell_type": "markdown",
   "id": "4ada2f8a-e081-4c52-beb6-d117e85e4eb8",
   "metadata": {},
   "source": []
  },
  {
   "cell_type": "markdown",
   "id": "17426724-09aa-418b-934f-b212f2723477",
   "metadata": {},
   "source": [
    "### Arithmetic\n",
    "#### Is branch of mathematics dealing with numbers and the basic\n",
    "#### operations applied to them:\n",
    "##### addition, subtraction, multiplication, and adivision"
   ]
  },
  {
   "cell_type": "markdown",
   "id": "6832bcef-8a79-4452-93bc-4c9958990a86",
   "metadata": {},
   "source": [
    "### Multiplication and Add numbers"
   ]
  },
  {
   "cell_type": "code",
   "execution_count": 6,
   "id": "067b4749-28cf-4579-bece-146ed3c8174a",
   "metadata": {},
   "outputs": [
    {
     "name": "stdout",
     "output_type": "stream",
     "text": [
      "Add numbers 3\n",
      "\n",
      "Multiplication numbers 2\n"
     ]
    }
   ],
   "source": [
    "a = 1\n",
    "b = 2\n",
    "add = a + b\n",
    "multi = a * b\n",
    "\n",
    "print (\"Add numbers\", add)\n",
    "print(\"\")\n",
    "print(\"Multiplication numbers\", multi)"
   ]
  },
  {
   "cell_type": "markdown",
   "id": "9a499c53-645f-474c-ae30-965602f82c54",
   "metadata": {},
   "source": []
  },
  {
   "cell_type": "markdown",
   "id": "256f6629-e7de-4989-8e88-0b0ab83c2927",
   "metadata": {},
   "source": []
  },
  {
   "cell_type": "code",
   "execution_count": 10,
   "id": "57c8e2f4-b41b-473d-a4ef-13af8bdb78b9",
   "metadata": {},
   "outputs": [
    {
     "name": "stdout",
     "output_type": "stream",
     "text": [
      "Hours to Minutes 1.0 hours\n"
     ]
    }
   ],
   "source": [
    "minutes = 60\n",
    "hours = minutes / 60\n",
    "\n",
    "print(\"Hours to Minutes\", hours, \"hours\")"
   ]
  },
  {
   "cell_type": "markdown",
   "id": "dc7babc1-4fe5-4406-aea2-e1fa8f8979f4",
   "metadata": {},
   "source": []
  },
  {
   "cell_type": "markdown",
   "id": "3da9326d-46fb-4099-b6ba-0b02bdd827af",
   "metadata": {},
   "source": []
  },
  {
   "cell_type": "markdown",
   "id": "a064d1fc-092b-49ad-a4c7-35115e1b5601",
   "metadata": {},
   "source": []
  },
  {
   "cell_type": "markdown",
   "id": "efa25460-e223-4378-8c2a-d41626bf131c",
   "metadata": {},
   "source": []
  },
  {
   "cell_type": "markdown",
   "id": "734a2de2-6eab-4c6e-9a78-6dfefb94386f",
   "metadata": {},
   "source": []
  },
  {
   "cell_type": "markdown",
   "id": "4543db92-3aa7-4098-bffa-24b41ec9a6fe",
   "metadata": {},
   "source": []
  },
  {
   "cell_type": "markdown",
   "id": "2f336233-5dc6-43d8-b369-1b651f9a65ef",
   "metadata": {},
   "source": [
    "### Objectives\n",
    "- #### Understand Basic Statistics\n",
    "- #### Learn Programming Languages\n",
    "- #### Familiarize with Data Visualization Tools\n",
    "- #### Explore Data Cleaning Techniques\n",
    "- #### Study Machine Learning Basics"
   ]
  },
  {
   "cell_type": "markdown",
   "id": "890081c5-c05f-49fa-ae0e-147c3ea538eb",
   "metadata": {},
   "source": []
  },
  {
   "cell_type": "markdown",
   "id": "d0cc31dc-a540-4990-b23d-5c103b750117",
   "metadata": {},
   "source": []
  },
  {
   "cell_type": "markdown",
   "id": "8f3611d6-f0bd-439f-bb09-8f9fbde33ddd",
   "metadata": {},
   "source": [
    "## Author's Name\n",
    "# Mosab K.Shawer"
   ]
  }
 ],
 "metadata": {
  "kernelspec": {
   "display_name": "Python 3 (ipykernel)",
   "language": "python",
   "name": "python3"
  },
  "language_info": {
   "codemirror_mode": {
    "name": "ipython",
    "version": 3
   },
   "file_extension": ".py",
   "mimetype": "text/x-python",
   "name": "python",
   "nbconvert_exporter": "python",
   "pygments_lexer": "ipython3",
   "version": "3.12.3"
  }
 },
 "nbformat": 4,
 "nbformat_minor": 5
}
